{
 "cells": [
  {
   "cell_type": "code",
   "execution_count": 23,
   "metadata": {},
   "outputs": [
    {
     "name": "stdout",
     "output_type": "stream",
     "text": [
      "--- Amelia+2 Isla+4 Charlotte-1 Ava-3 Olivia-1 Mia-1 Lily+2 Willow+2 Sophia-1 Zoe+1 Evie+4 Ivy+2 Harper-6 Ella+6 Ruby+3 Isabella-4 Layla+0 Isabelle+14 Matilda+0 Chloe+4 Sophie+4 Aria+0 Zara-7 Grace-11 Sienna+4 Evelyn-5 Mila+1 Lucy-5 Emily-3 Frankie+14 Scarlett-1 Riley+19 Abigail+4 Mackenzie+12 Charlie-4 Maddison-3 Georgia-10 Audrey-4 Hazel+0 Madeline+7 Poppy+4 Lyla-6 Aaliyah-5 Hannah-9 Ayla-4 Eva+3 Emma-4 Violet-8 Eleanor+13 Hayley+15\n",
      "--- Elsie+16 Alice+3 Ariana+24 Florence-12 Aurora+5 Ellie-6 Penelope+6 Millie+15 Piper+2 Daisy+10 Luna+10 Marley-9 Maya+9 Indie-10 Freya-13 Kiara+32 Sadienew! Macie+0 Skylar-5 Annabelle+18 Eliza+12 Hallienew! Stella+24 Savannah-18 Billie-27 Aubrey+4 Claire+9 Summer+11 Harriet-5Reminew! Imogen+1 Jasmine-3 Olive+17 Lola-18 Mikayla+14 Noranew! Bonnie+3 Edennew! Laranew!Everlynew! Lexi-6 Maggienew! Maia-12 Thea-37 Eloise-20 Alexis-38 Addison-10 Harlow-22 Indiana-30 Paige-4\n"
     ]
    }
   ],
   "source": [
    "#https://www.babycenter.com.au/popular-baby-names\n",
    "from bs4 import BeautifulSoup\n",
    "import re\n",
    "import pandas as pd"
   ]
  },
  {
   "cell_type": "code",
   "execution_count": 123,
   "metadata": {},
   "outputs": [
    {
     "data": {
      "text/html": [
       "<div>\n",
       "<style scoped>\n",
       "    .dataframe tbody tr th:only-of-type {\n",
       "        vertical-align: middle;\n",
       "    }\n",
       "\n",
       "    .dataframe tbody tr th {\n",
       "        vertical-align: top;\n",
       "    }\n",
       "\n",
       "    .dataframe thead th {\n",
       "        text-align: right;\n",
       "    }\n",
       "</style>\n",
       "<table border=\"1\" class=\"dataframe\">\n",
       "  <thead>\n",
       "    <tr style=\"text-align: right;\">\n",
       "      <th></th>\n",
       "      <th>Name</th>\n",
       "      <th>Gender</th>\n",
       "      <th>nysiis</th>\n",
       "    </tr>\n",
       "  </thead>\n",
       "  <tbody>\n",
       "    <tr>\n",
       "      <th>0</th>\n",
       "      <td>Oliver</td>\n",
       "      <td>M</td>\n",
       "      <td>OLAVAR</td>\n",
       "    </tr>\n",
       "    <tr>\n",
       "      <th>1</th>\n",
       "      <td>Noah</td>\n",
       "      <td>M</td>\n",
       "      <td>N</td>\n",
       "    </tr>\n",
       "    <tr>\n",
       "      <th>2</th>\n",
       "      <td>Leo</td>\n",
       "      <td>M</td>\n",
       "      <td>L</td>\n",
       "    </tr>\n",
       "    <tr>\n",
       "      <th>3</th>\n",
       "      <td>Lucas</td>\n",
       "      <td>M</td>\n",
       "      <td>LAC</td>\n",
       "    </tr>\n",
       "    <tr>\n",
       "      <th>4</th>\n",
       "      <td>Jack</td>\n",
       "      <td>M</td>\n",
       "      <td>JAC</td>\n",
       "    </tr>\n",
       "  </tbody>\n",
       "</table>\n",
       "</div>"
      ],
      "text/plain": [
       "     Name Gender  nysiis\n",
       "0  Oliver      M  OLAVAR\n",
       "1    Noah      M       N\n",
       "2     Leo      M       L\n",
       "3   Lucas      M     LAC\n",
       "4    Jack      M     JAC"
      ]
     },
     "execution_count": 123,
     "metadata": {},
     "output_type": "execute_result"
    }
   ],
   "source": [
    "def get_names(txt,gender):\n",
    "    \n",
    "    \n",
    "    z=txt.split()\n",
    "    arr=[]\n",
    "    for i in z:\n",
    "        word=(re.split('\\+|-',i))[0]\n",
    "        arr.append(word)\n",
    "    df=pd.DataFrame(arr)\n",
    "    df.columns=['Name']\n",
    "    df['Gender']=gender\n",
    "    return df\n",
    "\n",
    "def parse_url(url,gender):\n",
    "    page = requests.get(url)\n",
    "    soup = BeautifulSoup(page.content, 'html.parser')\n",
    "\n",
    "    txt=soup.find_all(['ol'])[0].get_text()\n",
    "    return get_names(txt,gender)\n",
    "\n",
    "def all_babies(url1,url2):\n",
    "    girls=parse_url(url1,'F')\n",
    "    boys=parse_url(url2,'M')\n",
    "\n",
    "    all_df=pd.concat([boys,girls])\n",
    "    all_df['nysiis']=all_df.Name.apply(lambda x:fuzzy.nysiis(x))\n",
    "    return all_df\n",
    "df1=all_babies('https://www.babycenter.com.au/2019-top-baby-girl-names','https://www.babycenter.com.au/2019-top-baby-boy-names')\n",
    "df1.head()"
   ]
  },
  {
   "cell_type": "code",
   "execution_count": 130,
   "metadata": {},
   "outputs": [
    {
     "data": {
      "text/plain": [
       "L         2\n",
       "LAC       2\n",
       "GARG      2\n",
       "CARLY     2\n",
       "ISABAL    2\n",
       "         ..\n",
       "CARTAR    1\n",
       "ALY       1\n",
       "EVALAN    1\n",
       "AV        1\n",
       "ETAN      1\n",
       "Name: nysiis, Length: 93, dtype: int64"
      ]
     },
     "execution_count": 130,
     "metadata": {},
     "output_type": "execute_result"
    }
   ],
   "source": [
    "df1.nysiis.value_counts()"
   ]
  },
  {
   "cell_type": "code",
   "execution_count": 132,
   "metadata": {},
   "outputs": [
    {
     "data": {
      "text/html": [
       "<div>\n",
       "<style scoped>\n",
       "    .dataframe tbody tr th:only-of-type {\n",
       "        vertical-align: middle;\n",
       "    }\n",
       "\n",
       "    .dataframe tbody tr th {\n",
       "        vertical-align: top;\n",
       "    }\n",
       "\n",
       "    .dataframe thead th {\n",
       "        text-align: right;\n",
       "    }\n",
       "</style>\n",
       "<table border=\"1\" class=\"dataframe\">\n",
       "  <thead>\n",
       "    <tr style=\"text-align: right;\">\n",
       "      <th></th>\n",
       "      <th>Name</th>\n",
       "      <th>Gender</th>\n",
       "      <th>nysiis</th>\n",
       "    </tr>\n",
       "  </thead>\n",
       "  <tbody>\n",
       "    <tr>\n",
       "      <th>2</th>\n",
       "      <td>Leo</td>\n",
       "      <td>M</td>\n",
       "      <td>L</td>\n",
       "    </tr>\n",
       "    <tr>\n",
       "      <th>41</th>\n",
       "      <td>Louis</td>\n",
       "      <td>M</td>\n",
       "      <td>L</td>\n",
       "    </tr>\n",
       "  </tbody>\n",
       "</table>\n",
       "</div>"
      ],
      "text/plain": [
       "     Name Gender nysiis\n",
       "2     Leo      M      L\n",
       "41  Louis      M      L"
      ]
     },
     "execution_count": 132,
     "metadata": {},
     "output_type": "execute_result"
    }
   ],
   "source": [
    "df1.loc[df1.nysiis=='L']"
   ]
  },
  {
   "cell_type": "code",
   "execution_count": null,
   "metadata": {},
   "outputs": [],
   "source": []
  }
 ],
 "metadata": {
  "kernelspec": {
   "display_name": "Python 3",
   "language": "python",
   "name": "python3"
  },
  "language_info": {
   "codemirror_mode": {
    "name": "ipython",
    "version": 3
   },
   "file_extension": ".py",
   "mimetype": "text/x-python",
   "name": "python",
   "nbconvert_exporter": "python",
   "pygments_lexer": "ipython3",
   "version": "3.7.6"
  }
 },
 "nbformat": 4,
 "nbformat_minor": 4
}
