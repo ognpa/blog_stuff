{
 "cells": [
  {
   "cell_type": "code",
   "execution_count": null,
   "metadata": {
    "gradient": {
     "editing": false
    }
   },
   "outputs": [],
   "source": [
    "from fastai.vision.all import *\n",
    "path = Path('./instruments_data')\n",
    "learn = load_learner(path/'export.pkl', cpu=True)\n"
   ]
  },
  {
   "cell_type": "code",
   "execution_count": null,
   "metadata": {
    "gradient": {
     "editing": false
    }
   },
   "outputs": [],
   "source": [
    "btn_upload = widgets.FileUpload()\n",
    "out_pl = widgets.Output()\n",
    "lbl_pred = widgets.Label()"
   ]
  },
  {
   "cell_type": "code",
   "execution_count": null,
   "metadata": {
    "gradient": {
     "editing": false
    }
   },
   "outputs": [
    {
     "data": {
      "application/vnd.jupyter.widget-view+json": {
       "model_id": "8a2e571171ba412481a8fb9770bd11a1",
       "version_major": 2,
       "version_minor": 0
      },
      "text/plain": [
       "VBox(children=(Label(value='Select your instrumen!'), FileUpload(value={}, description='Upload'), Output(), La…"
      ]
     },
     "metadata": {},
     "output_type": "display_data",
     "transient": {}
    }
   ],
   "source": [
    "def on_data_change(change):\n",
    "    lbl_pred.value = ''\n",
    "    img = PILImage.create(btn_upload.data[-1])\n",
    "    out_pl.clear_output()\n",
    "    with out_pl: display(img.to_thumb(128,128))\n",
    "    pred,pred_idx,probs = learn_inf.predict(img)\n",
    "    lbl_pred.value = f'Prediction: {pred}; Probability: {probs[pred_idx]:.04f}'\n",
    "    \n",
    "btn_upload.observe(on_data_change, names=['data'])\n",
    "display(VBox([widgets.Label('Select your instrumen!'), btn_upload, out_pl, lbl_pred]))\n"
   ]
  },
  {
   "cell_type": "code",
   "execution_count": null,
   "metadata": {
    "gradient": {
     "editing": false
    }
   },
   "outputs": [
    {
     "name": "stdout",
     "output_type": "stream",
     "text": [
      "Collecting voila\r\n"
     ]
    },
    {
     "name": "stdout",
     "output_type": "stream",
     "text": [
      "  Downloading voila-0.2.16-py3-none-any.whl (1.6 MB)\r\n",
      "\u001b[?25l\r",
      "\u001b[K     |▏                               | 10 kB 5.7 MB/s eta 0:00:01\r",
      "\u001b[K     |▍                               | 20 kB 9.1 MB/s eta 0:00:01\r",
      "\u001b[K     |▋                               | 30 kB 3.5 MB/s eta 0:00:01\r",
      "\u001b[K     |▉                               | 40 kB 2.0 MB/s eta 0:00:01\r",
      "\u001b[K     |█                               | 51 kB 2.5 MB/s eta 0:00:01\r",
      "\u001b[K     |█▏                              | 61 kB 2.5 MB/s eta 0:00:01"
     ]
    },
    {
     "name": "stdout",
     "output_type": "stream",
     "text": [
      "\r",
      "\u001b[K     |█▍                              | 71 kB 1.8 MB/s eta 0:00:01\r",
      "\u001b[K     |█▋                              | 81 kB 2.1 MB/s eta 0:00:01\r",
      "\u001b[K     |█▉                              | 92 kB 1.6 MB/s eta 0:00:01\r",
      "\u001b[K     |██                              | 102 kB 1.8 MB/s eta 0:00:01\r",
      "\u001b[K     |██▏                             | 112 kB 1.8 MB/s eta 0:00:01\r",
      "\u001b[K     |██▍                             | 122 kB 1.8 MB/s eta 0:00:01\r",
      "\u001b[K     |██▋                             | 133 kB 1.8 MB/s eta 0:00:01\r",
      "\u001b[K     |██▉                             | 143 kB 1.8 MB/s eta 0:00:01\r",
      "\u001b[K     |███                             | 153 kB 1.8 MB/s eta 0:00:01\r",
      "\u001b[K     |███▏                            | 163 kB 1.8 MB/s eta 0:00:01\r",
      "\u001b[K     |███▍                            | 174 kB 1.8 MB/s eta 0:00:01\r",
      "\u001b[K     |███▋                            | 184 kB 1.8 MB/s eta 0:00:01\r",
      "\u001b[K     |███▉                            | 194 kB 1.8 MB/s eta 0:00:01\r",
      "\u001b[K     |████                            | 204 kB 1.8 MB/s eta 0:00:01\r",
      "\u001b[K     |████▏                           | 215 kB 1.8 MB/s eta 0:00:01\r",
      "\u001b[K     |████▍                           | 225 kB 1.8 MB/s eta 0:00:01"
     ]
    },
    {
     "name": "stdout",
     "output_type": "stream",
     "text": [
      "\r",
      "\u001b[K     |████▋                           | 235 kB 1.8 MB/s eta 0:00:01\r",
      "\u001b[K     |████▉                           | 245 kB 1.8 MB/s eta 0:00:01\r",
      "\u001b[K     |█████                           | 256 kB 1.8 MB/s eta 0:00:01\r",
      "\u001b[K     |█████▏                          | 266 kB 1.8 MB/s eta 0:00:01\r",
      "\u001b[K     |█████▍                          | 276 kB 1.8 MB/s eta 0:00:01\r",
      "\u001b[K     |█████▋                          | 286 kB 1.8 MB/s eta 0:00:01\r",
      "\u001b[K     |█████▉                          | 296 kB 1.8 MB/s eta 0:00:01\r",
      "\u001b[K     |██████                          | 307 kB 1.8 MB/s eta 0:00:01\r",
      "\u001b[K     |██████▏                         | 317 kB 1.8 MB/s eta 0:00:01\r",
      "\u001b[K     |██████▍                         | 327 kB 1.8 MB/s eta 0:00:01\r",
      "\u001b[K     |██████▋                         | 337 kB 1.8 MB/s eta 0:00:01\r",
      "\u001b[K     |██████▉                         | 348 kB 1.8 MB/s eta 0:00:01\r",
      "\u001b[K     |███████                         | 358 kB 1.8 MB/s eta 0:00:01\r",
      "\u001b[K     |███████▏                        | 368 kB 1.8 MB/s eta 0:00:01"
     ]
    },
    {
     "name": "stdout",
     "output_type": "stream",
     "text": [
      "\r",
      "\u001b[K     |███████▍                        | 378 kB 1.8 MB/s eta 0:00:01\r",
      "\u001b[K     |███████▋                        | 389 kB 1.8 MB/s eta 0:00:01\r",
      "\u001b[K     |███████▉                        | 399 kB 1.8 MB/s eta 0:00:01\r",
      "\u001b[K     |████████                        | 409 kB 1.8 MB/s eta 0:00:01\r",
      "\u001b[K     |████████▏                       | 419 kB 1.8 MB/s eta 0:00:01\r",
      "\u001b[K     |████████▍                       | 430 kB 1.8 MB/s eta 0:00:01\r",
      "\u001b[K     |████████▋                       | 440 kB 1.8 MB/s eta 0:00:01\r",
      "\u001b[K     |████████▉                       | 450 kB 1.8 MB/s eta 0:00:01\r",
      "\u001b[K     |█████████                       | 460 kB 1.8 MB/s eta 0:00:01\r",
      "\u001b[K     |█████████▏                      | 471 kB 1.8 MB/s eta 0:00:01"
     ]
    },
    {
     "name": "stdout",
     "output_type": "stream",
     "text": [
      "\r",
      "\u001b[K     |█████████▍                      | 481 kB 1.8 MB/s eta 0:00:01\r",
      "\u001b[K     |█████████▋                      | 491 kB 1.8 MB/s eta 0:00:01\r",
      "\u001b[K     |█████████▉                      | 501 kB 1.8 MB/s eta 0:00:01\r",
      "\u001b[K     |██████████                      | 512 kB 1.8 MB/s eta 0:00:01\r",
      "\u001b[K     |██████████▏                     | 522 kB 1.8 MB/s eta 0:00:01\r",
      "\u001b[K     |██████████▍                     | 532 kB 1.8 MB/s eta 0:00:01\r",
      "\u001b[K     |██████████▋                     | 542 kB 1.8 MB/s eta 0:00:01\r",
      "\u001b[K     |██████████▉                     | 552 kB 1.8 MB/s eta 0:00:01\r",
      "\u001b[K     |███████████                     | 563 kB 1.8 MB/s eta 0:00:01\r",
      "\u001b[K     |███████████▏                    | 573 kB 1.8 MB/s eta 0:00:01\r",
      "\u001b[K     |███████████▍                    | 583 kB 1.8 MB/s eta 0:00:01"
     ]
    },
    {
     "name": "stdout",
     "output_type": "stream",
     "text": [
      "\r",
      "\u001b[K     |███████████▋                    | 593 kB 1.8 MB/s eta 0:00:01\r",
      "\u001b[K     |███████████▉                    | 604 kB 1.8 MB/s eta 0:00:01\r",
      "\u001b[K     |████████████                    | 614 kB 1.8 MB/s eta 0:00:01\r",
      "\u001b[K     |████████████▏                   | 624 kB 1.8 MB/s eta 0:00:01\r",
      "\u001b[K     |████████████▍                   | 634 kB 1.8 MB/s eta 0:00:01\r",
      "\u001b[K     |████████████▋                   | 645 kB 1.8 MB/s eta 0:00:01\r",
      "\u001b[K     |████████████▊                   | 655 kB 1.8 MB/s eta 0:00:01\r",
      "\u001b[K     |█████████████                   | 665 kB 1.8 MB/s eta 0:00:01"
     ]
    },
    {
     "name": "stdout",
     "output_type": "stream",
     "text": [
      "\r",
      "\u001b[K     |█████████████▏                  | 675 kB 1.8 MB/s eta 0:00:01\r",
      "\u001b[K     |█████████████▍                  | 686 kB 1.8 MB/s eta 0:00:01\r",
      "\u001b[K     |█████████████▋                  | 696 kB 1.8 MB/s eta 0:00:01\r",
      "\u001b[K     |█████████████▊                  | 706 kB 1.8 MB/s eta 0:00:01\r",
      "\u001b[K     |██████████████                  | 716 kB 1.8 MB/s eta 0:00:01\r",
      "\u001b[K     |██████████████▏                 | 727 kB 1.8 MB/s eta 0:00:01\r",
      "\u001b[K     |██████████████▍                 | 737 kB 1.8 MB/s eta 0:00:01\r",
      "\u001b[K     |██████████████▋                 | 747 kB 1.8 MB/s eta 0:00:01\r",
      "\u001b[K     |██████████████▊                 | 757 kB 1.8 MB/s eta 0:00:01\r",
      "\u001b[K     |███████████████                 | 768 kB 1.8 MB/s eta 0:00:01\r",
      "\u001b[K     |███████████████▏                | 778 kB 1.8 MB/s eta 0:00:01\r",
      "\u001b[K     |███████████████▍                | 788 kB 1.8 MB/s eta 0:00:01\r",
      "\u001b[K     |███████████████▋                | 798 kB 1.8 MB/s eta 0:00:01\r",
      "\u001b[K     |███████████████▊                | 808 kB 1.8 MB/s eta 0:00:01\r",
      "\u001b[K     |████████████████                | 819 kB 1.8 MB/s eta 0:00:01"
     ]
    },
    {
     "name": "stdout",
     "output_type": "stream",
     "text": [
      "\r",
      "\u001b[K     |████████████████▏               | 829 kB 1.8 MB/s eta 0:00:01\r",
      "\u001b[K     |████████████████▍               | 839 kB 1.8 MB/s eta 0:00:01\r",
      "\u001b[K     |████████████████▋               | 849 kB 1.8 MB/s eta 0:00:01\r",
      "\u001b[K     |████████████████▊               | 860 kB 1.8 MB/s eta 0:00:01\r",
      "\u001b[K     |█████████████████               | 870 kB 1.8 MB/s eta 0:00:01\r",
      "\u001b[K     |█████████████████▏              | 880 kB 1.8 MB/s eta 0:00:01\r",
      "\u001b[K     |█████████████████▍              | 890 kB 1.8 MB/s eta 0:00:01\r",
      "\u001b[K     |█████████████████▋              | 901 kB 1.8 MB/s eta 0:00:01\r",
      "\u001b[K     |█████████████████▊              | 911 kB 1.8 MB/s eta 0:00:01\r",
      "\u001b[K     |██████████████████              | 921 kB 1.8 MB/s eta 0:00:01\r",
      "\u001b[K     |██████████████████▏             | 931 kB 1.8 MB/s eta 0:00:01"
     ]
    },
    {
     "name": "stdout",
     "output_type": "stream",
     "text": [
      "\r",
      "\u001b[K     |██████████████████▍             | 942 kB 1.8 MB/s eta 0:00:01\r",
      "\u001b[K     |██████████████████▋             | 952 kB 1.8 MB/s eta 0:00:01\r",
      "\u001b[K     |██████████████████▊             | 962 kB 1.8 MB/s eta 0:00:01\r",
      "\u001b[K     |███████████████████             | 972 kB 1.8 MB/s eta 0:00:01\r",
      "\u001b[K     |███████████████████▏            | 983 kB 1.8 MB/s eta 0:00:01\r",
      "\u001b[K     |███████████████████▍            | 993 kB 1.8 MB/s eta 0:00:01\r",
      "\u001b[K     |███████████████████▋            | 1.0 MB 1.8 MB/s eta 0:00:01\r",
      "\u001b[K     |███████████████████▊            | 1.0 MB 1.8 MB/s eta 0:00:01\r",
      "\u001b[K     |████████████████████            | 1.0 MB 1.8 MB/s eta 0:00:01\r",
      "\u001b[K     |████████████████████▏           | 1.0 MB 1.8 MB/s eta 0:00:01\r",
      "\u001b[K     |████████████████████▍           | 1.0 MB 1.8 MB/s eta 0:00:01\r",
      "\u001b[K     |████████████████████▋           | 1.1 MB 1.8 MB/s eta 0:00:01\r",
      "\u001b[K     |████████████████████▊           | 1.1 MB 1.8 MB/s eta 0:00:01"
     ]
    },
    {
     "name": "stdout",
     "output_type": "stream",
     "text": [
      "\r",
      "\u001b[K     |█████████████████████           | 1.1 MB 1.8 MB/s eta 0:00:01\r",
      "\u001b[K     |█████████████████████▏          | 1.1 MB 1.8 MB/s eta 0:00:01\r",
      "\u001b[K     |█████████████████████▍          | 1.1 MB 1.8 MB/s eta 0:00:01\r",
      "\u001b[K     |█████████████████████▋          | 1.1 MB 1.8 MB/s eta 0:00:01\r",
      "\u001b[K     |█████████████████████▊          | 1.1 MB 1.8 MB/s eta 0:00:01\r",
      "\u001b[K     |██████████████████████          | 1.1 MB 1.8 MB/s eta 0:00:01\r",
      "\u001b[K     |██████████████████████▏         | 1.1 MB 1.8 MB/s eta 0:00:01\r",
      "\u001b[K     |██████████████████████▍         | 1.1 MB 1.8 MB/s eta 0:00:01\r",
      "\u001b[K     |██████████████████████▋         | 1.2 MB 1.8 MB/s eta 0:00:01\r",
      "\u001b[K     |██████████████████████▊         | 1.2 MB 1.8 MB/s eta 0:00:01\r",
      "\u001b[K     |███████████████████████         | 1.2 MB 1.8 MB/s eta 0:00:01\r",
      "\u001b[K     |███████████████████████▏        | 1.2 MB 1.8 MB/s eta 0:00:01"
     ]
    },
    {
     "name": "stdout",
     "output_type": "stream",
     "text": [
      "\r",
      "\u001b[K     |███████████████████████▍        | 1.2 MB 1.8 MB/s eta 0:00:01\r",
      "\u001b[K     |███████████████████████▋        | 1.2 MB 1.8 MB/s eta 0:00:01\r",
      "\u001b[K     |███████████████████████▊        | 1.2 MB 1.8 MB/s eta 0:00:01\r",
      "\u001b[K     |████████████████████████        | 1.2 MB 1.8 MB/s eta 0:00:01\r",
      "\u001b[K     |████████████████████████▏       | 1.2 MB 1.8 MB/s eta 0:00:01\r",
      "\u001b[K     |████████████████████████▍       | 1.2 MB 1.8 MB/s eta 0:00:01\r",
      "\u001b[K     |████████████████████████▌       | 1.3 MB 1.8 MB/s eta 0:00:01\r",
      "\u001b[K     |████████████████████████▊       | 1.3 MB 1.8 MB/s eta 0:00:01\r",
      "\u001b[K     |█████████████████████████       | 1.3 MB 1.8 MB/s eta 0:00:01\r",
      "\u001b[K     |█████████████████████████▏      | 1.3 MB 1.8 MB/s eta 0:00:01\r",
      "\u001b[K     |█████████████████████████▍      | 1.3 MB 1.8 MB/s eta 0:00:01\r",
      "\u001b[K     |█████████████████████████▌      | 1.3 MB 1.8 MB/s eta 0:00:01\r",
      "\u001b[K     |█████████████████████████▊      | 1.3 MB 1.8 MB/s eta 0:00:01"
     ]
    },
    {
     "name": "stdout",
     "output_type": "stream",
     "text": [
      "\r",
      "\u001b[K     |██████████████████████████      | 1.3 MB 1.8 MB/s eta 0:00:01\r",
      "\u001b[K     |██████████████████████████▏     | 1.3 MB 1.8 MB/s eta 0:00:01\r",
      "\u001b[K     |██████████████████████████▍     | 1.4 MB 1.8 MB/s eta 0:00:01\r",
      "\u001b[K     |██████████████████████████▌     | 1.4 MB 1.8 MB/s eta 0:00:01\r",
      "\u001b[K     |██████████████████████████▊     | 1.4 MB 1.8 MB/s eta 0:00:01\r",
      "\u001b[K     |███████████████████████████     | 1.4 MB 1.8 MB/s eta 0:00:01\r",
      "\u001b[K     |███████████████████████████▏    | 1.4 MB 1.8 MB/s eta 0:00:01\r",
      "\u001b[K     |███████████████████████████▍    | 1.4 MB 1.8 MB/s eta 0:00:01\r",
      "\u001b[K     |███████████████████████████▌    | 1.4 MB 1.8 MB/s eta 0:00:01\r",
      "\u001b[K     |███████████████████████████▊    | 1.4 MB 1.8 MB/s eta 0:00:01\r",
      "\u001b[K     |████████████████████████████    | 1.4 MB 1.8 MB/s eta 0:00:01\r",
      "\u001b[K     |████████████████████████████▏   | 1.4 MB 1.8 MB/s eta 0:00:01\r",
      "\u001b[K     |████████████████████████████▍   | 1.5 MB 1.8 MB/s eta 0:00:01"
     ]
    },
    {
     "name": "stdout",
     "output_type": "stream",
     "text": [
      "\r",
      "\u001b[K     |████████████████████████████▌   | 1.5 MB 1.8 MB/s eta 0:00:01\r",
      "\u001b[K     |████████████████████████████▊   | 1.5 MB 1.8 MB/s eta 0:00:01\r",
      "\u001b[K     |█████████████████████████████   | 1.5 MB 1.8 MB/s eta 0:00:01\r",
      "\u001b[K     |█████████████████████████████▏  | 1.5 MB 1.8 MB/s eta 0:00:01\r",
      "\u001b[K     |█████████████████████████████▍  | 1.5 MB 1.8 MB/s eta 0:00:01\r",
      "\u001b[K     |█████████████████████████████▌  | 1.5 MB 1.8 MB/s eta 0:00:01\r",
      "\u001b[K     |█████████████████████████████▊  | 1.5 MB 1.8 MB/s eta 0:00:01\r",
      "\u001b[K     |██████████████████████████████  | 1.5 MB 1.8 MB/s eta 0:00:01\r",
      "\u001b[K     |██████████████████████████████▏ | 1.5 MB 1.8 MB/s eta 0:00:01\r",
      "\u001b[K     |██████████████████████████████▍ | 1.6 MB 1.8 MB/s eta 0:00:01\r",
      "\u001b[K     |██████████████████████████████▌ | 1.6 MB 1.8 MB/s eta 0:00:01\r",
      "\u001b[K     |██████████████████████████████▊ | 1.6 MB 1.8 MB/s eta 0:00:01\r",
      "\u001b[K     |███████████████████████████████ | 1.6 MB 1.8 MB/s eta 0:00:01\r",
      "\u001b[K     |███████████████████████████████▏| 1.6 MB 1.8 MB/s eta 0:00:01\r",
      "\u001b[K     |███████████████████████████████▍| 1.6 MB 1.8 MB/s eta 0:00:01"
     ]
    },
    {
     "name": "stdout",
     "output_type": "stream",
     "text": [
      "\r",
      "\u001b[K     |███████████████████████████████▌| 1.6 MB 1.8 MB/s eta 0:00:01\r",
      "\u001b[K     |███████████████████████████████▊| 1.6 MB 1.8 MB/s eta 0:00:01\r",
      "\u001b[K     |████████████████████████████████| 1.6 MB 1.8 MB/s eta 0:00:01\r",
      "\u001b[K     |████████████████████████████████| 1.6 MB 1.8 MB/s \r\n"
     ]
    },
    {
     "name": "stdout",
     "output_type": "stream",
     "text": [
      "\u001b[?25hCollecting nbconvert<7,>=6.0.0\r\n",
      "  Downloading nbconvert-6.2.0-py3-none-any.whl (553 kB)\r\n",
      "\u001b[?25l\r",
      "\u001b[K     |▋                               | 10 kB 952 kB/s eta 0:00:01\r",
      "\u001b[K     |█▏                              | 20 kB 1.9 MB/s eta 0:00:01\r",
      "\u001b[K     |█▊                              | 30 kB 2.8 MB/s eta 0:00:01\r",
      "\u001b[K     |██▍                             | 40 kB 2.6 MB/s eta 0:00:01"
     ]
    },
    {
     "name": "stdout",
     "output_type": "stream",
     "text": [
      "\r",
      "\u001b[K     |███                             | 51 kB 1.6 MB/s eta 0:00:01\r",
      "\u001b[K     |███▌                            | 61 kB 1.9 MB/s eta 0:00:01\r",
      "\u001b[K     |████▏                           | 71 kB 2.1 MB/s eta 0:00:01\r",
      "\u001b[K     |████▊                           | 81 kB 2.4 MB/s eta 0:00:01\r",
      "\u001b[K     |█████▎                          | 92 kB 2.6 MB/s eta 0:00:01\r",
      "\u001b[K     |██████                          | 102 kB 1.8 MB/s eta 0:00:01\r",
      "\u001b[K     |██████▌                         | 112 kB 1.8 MB/s eta 0:00:01\r",
      "\u001b[K     |███████                         | 122 kB 1.8 MB/s eta 0:00:01\r",
      "\u001b[K     |███████▊                        | 133 kB 1.8 MB/s eta 0:00:01\r",
      "\u001b[K     |████████▎                       | 143 kB 1.8 MB/s eta 0:00:01\r",
      "\u001b[K     |████████▉                       | 153 kB 1.8 MB/s eta 0:00:01\r",
      "\u001b[K     |█████████▌                      | 163 kB 1.8 MB/s eta 0:00:01"
     ]
    },
    {
     "name": "stdout",
     "output_type": "stream",
     "text": [
      "\r",
      "\u001b[K     |██████████                      | 174 kB 1.8 MB/s eta 0:00:01\r",
      "\u001b[K     |██████████▋                     | 184 kB 1.8 MB/s eta 0:00:01\r",
      "\u001b[K     |███████████▎                    | 194 kB 1.8 MB/s eta 0:00:01\r",
      "\u001b[K     |███████████▉                    | 204 kB 1.8 MB/s eta 0:00:01\r",
      "\u001b[K     |████████████▍                   | 215 kB 1.8 MB/s eta 0:00:01\r",
      "\u001b[K     |█████████████                   | 225 kB 1.8 MB/s eta 0:00:01\r",
      "\u001b[K     |█████████████▋                  | 235 kB 1.8 MB/s eta 0:00:01\r",
      "\u001b[K     |██████████████▏                 | 245 kB 1.8 MB/s eta 0:00:01\r",
      "\u001b[K     |██████████████▉                 | 256 kB 1.8 MB/s eta 0:00:01\r",
      "\u001b[K     |███████████████▍                | 266 kB 1.8 MB/s eta 0:00:01\r",
      "\u001b[K     |████████████████                | 276 kB 1.8 MB/s eta 0:00:01\r",
      "\u001b[K     |████████████████▋               | 286 kB 1.8 MB/s eta 0:00:01\r",
      "\u001b[K     |█████████████████▏              | 296 kB 1.8 MB/s eta 0:00:01"
     ]
    },
    {
     "name": "stdout",
     "output_type": "stream",
     "text": [
      "\r",
      "\u001b[K     |█████████████████▊              | 307 kB 1.8 MB/s eta 0:00:01\r",
      "\u001b[K     |██████████████████▍             | 317 kB 1.8 MB/s eta 0:00:01\r",
      "\u001b[K     |███████████████████             | 327 kB 1.8 MB/s eta 0:00:01\r",
      "\u001b[K     |███████████████████▌            | 337 kB 1.8 MB/s eta 0:00:01\r",
      "\u001b[K     |████████████████████▏           | 348 kB 1.8 MB/s eta 0:00:01\r",
      "\u001b[K     |████████████████████▊           | 358 kB 1.8 MB/s eta 0:00:01\r",
      "\u001b[K     |█████████████████████▎          | 368 kB 1.8 MB/s eta 0:00:01\r",
      "\u001b[K     |██████████████████████          | 378 kB 1.8 MB/s eta 0:00:01\r",
      "\u001b[K     |██████████████████████▌         | 389 kB 1.8 MB/s eta 0:00:01\r",
      "\u001b[K     |███████████████████████         | 399 kB 1.8 MB/s eta 0:00:01\r",
      "\u001b[K     |███████████████████████▊        | 409 kB 1.8 MB/s eta 0:00:01\r",
      "\u001b[K     |████████████████████████▎       | 419 kB 1.8 MB/s eta 0:00:01\r",
      "\u001b[K     |████████████████████████▉       | 430 kB 1.8 MB/s eta 0:00:01"
     ]
    },
    {
     "name": "stdout",
     "output_type": "stream",
     "text": [
      "\r",
      "\u001b[K     |█████████████████████████▌      | 440 kB 1.8 MB/s eta 0:00:01\r",
      "\u001b[K     |██████████████████████████      | 450 kB 1.8 MB/s eta 0:00:01\r",
      "\u001b[K     |██████████████████████████▋     | 460 kB 1.8 MB/s eta 0:00:01\r",
      "\u001b[K     |███████████████████████████▎    | 471 kB 1.8 MB/s eta 0:00:01\r",
      "\u001b[K     |███████████████████████████▉    | 481 kB 1.8 MB/s eta 0:00:01\r",
      "\u001b[K     |████████████████████████████▍   | 491 kB 1.8 MB/s eta 0:00:01\r",
      "\u001b[K     |█████████████████████████████   | 501 kB 1.8 MB/s eta 0:00:01\r",
      "\u001b[K     |█████████████████████████████▋  | 512 kB 1.8 MB/s eta 0:00:01\r",
      "\u001b[K     |██████████████████████████████▏ | 522 kB 1.8 MB/s eta 0:00:01\r",
      "\u001b[K     |██████████████████████████████▉ | 532 kB 1.8 MB/s eta 0:00:01\r",
      "\u001b[K     |███████████████████████████████▍| 542 kB 1.8 MB/s eta 0:00:01\r",
      "\u001b[K     |████████████████████████████████| 552 kB 1.8 MB/s eta 0:00:01\r",
      "\u001b[K     |████████████████████████████████| 553 kB 1.8 MB/s \r\n"
     ]
    },
    {
     "name": "stdout",
     "output_type": "stream",
     "text": [
      "\u001b[?25hRequirement already satisfied: jupyter-client<7,>=6.1.3 in /opt/conda/envs/fastai/lib/python3.8/site-packages (from voila) (6.1.7)\r\n"
     ]
    },
    {
     "name": "stdout",
     "output_type": "stream",
     "text": [
      "Requirement already satisfied: nbclient<0.6,>=0.4.0 in /opt/conda/envs/fastai/lib/python3.8/site-packages (from voila) (0.5.1)\r\n"
     ]
    },
    {
     "name": "stdout",
     "output_type": "stream",
     "text": [
      "Collecting jupyter-server<2.0.0,>=0.3.0\r\n",
      "  Downloading jupyter_server-1.11.1-py3-none-any.whl (393 kB)\r\n",
      "\u001b[?25l\r",
      "\u001b[K     |▉                               | 10 kB 299 kB/s eta 0:00:02"
     ]
    },
    {
     "name": "stdout",
     "output_type": "stream",
     "text": [
      "\r",
      "\u001b[K     |█▋                              | 20 kB 593 kB/s eta 0:00:01\r",
      "\u001b[K     |██▌                             | 30 kB 888 kB/s eta 0:00:01\r",
      "\u001b[K     |███▎                            | 40 kB 1.2 MB/s eta 0:00:01\r",
      "\u001b[K     |████▏                           | 51 kB 1.5 MB/s eta 0:00:01\r",
      "\u001b[K     |█████                           | 61 kB 1.8 MB/s eta 0:00:01\r",
      "\u001b[K     |█████▉                          | 71 kB 1.6 MB/s eta 0:00:01\r",
      "\u001b[K     |██████▋                         | 81 kB 1.8 MB/s eta 0:00:01\r",
      "\u001b[K     |███████▌                        | 92 kB 1.9 MB/s eta 0:00:01\r",
      "\u001b[K     |████████▎                       | 102 kB 2.0 MB/s eta 0:00:01\r",
      "\u001b[K     |█████████▏                      | 112 kB 2.0 MB/s eta 0:00:01\r",
      "\u001b[K     |██████████                      | 122 kB 2.0 MB/s eta 0:00:01\r",
      "\u001b[K     |██████████▉                     | 133 kB 2.0 MB/s eta 0:00:01\r",
      "\u001b[K     |███████████▋                    | 143 kB 2.0 MB/s eta 0:00:01\r",
      "\u001b[K     |████████████▌                   | 153 kB 2.0 MB/s eta 0:00:01\r",
      "\u001b[K     |█████████████▎                  | 163 kB 2.0 MB/s eta 0:00:01\r",
      "\u001b[K     |██████████████▏                 | 174 kB 2.0 MB/s eta 0:00:01"
     ]
    },
    {
     "name": "stdout",
     "output_type": "stream",
     "text": [
      "\r",
      "\u001b[K     |███████████████                 | 184 kB 2.0 MB/s eta 0:00:01\r",
      "\u001b[K     |███████████████▉                | 194 kB 2.0 MB/s eta 0:00:01\r",
      "\u001b[K     |████████████████▋               | 204 kB 2.0 MB/s eta 0:00:01\r",
      "\u001b[K     |█████████████████▌              | 215 kB 2.0 MB/s eta 0:00:01\r",
      "\u001b[K     |██████████████████▎             | 225 kB 2.0 MB/s eta 0:00:01\r",
      "\u001b[K     |███████████████████▏            | 235 kB 2.0 MB/s eta 0:00:01\r",
      "\u001b[K     |████████████████████            | 245 kB 2.0 MB/s eta 0:00:01\r",
      "\u001b[K     |████████████████████▉           | 256 kB 2.0 MB/s eta 0:00:01\r",
      "\u001b[K     |█████████████████████▋          | 266 kB 2.0 MB/s eta 0:00:01\r",
      "\u001b[K     |██████████████████████▌         | 276 kB 2.0 MB/s eta 0:00:01"
     ]
    },
    {
     "name": "stdout",
     "output_type": "stream",
     "text": [
      "\r",
      "\u001b[K     |███████████████████████▎        | 286 kB 2.0 MB/s eta 0:00:01\r",
      "\u001b[K     |████████████████████████▏       | 296 kB 2.0 MB/s eta 0:00:01\r",
      "\u001b[K     |█████████████████████████       | 307 kB 2.0 MB/s eta 0:00:01\r",
      "\u001b[K     |█████████████████████████▉      | 317 kB 2.0 MB/s eta 0:00:01\r",
      "\u001b[K     |██████████████████████████▋     | 327 kB 2.0 MB/s eta 0:00:01\r",
      "\u001b[K     |███████████████████████████▌    | 337 kB 2.0 MB/s eta 0:00:01\r",
      "\u001b[K     |████████████████████████████▎   | 348 kB 2.0 MB/s eta 0:00:01\r",
      "\u001b[K     |█████████████████████████████▏  | 358 kB 2.0 MB/s eta 0:00:01\r",
      "\u001b[K     |██████████████████████████████  | 368 kB 2.0 MB/s eta 0:00:01\r",
      "\u001b[K     |██████████████████████████████▉ | 378 kB 2.0 MB/s eta 0:00:01\r",
      "\u001b[K     |███████████████████████████████▋| 389 kB 2.0 MB/s eta 0:00:01\r",
      "\u001b[K     |████████████████████████████████| 393 kB 2.0 MB/s \r\n"
     ]
    },
    {
     "name": "stdout",
     "output_type": "stream",
     "text": [
      "\u001b[?25hRequirement already satisfied: bleach in /opt/conda/envs/fastai/lib/python3.8/site-packages (from nbconvert<7,>=6.0.0->voila) (3.2.1)\r\n",
      "Requirement already satisfied: pandocfilters>=1.4.1 in /opt/conda/envs/fastai/lib/python3.8/site-packages (from nbconvert<7,>=6.0.0->voila) (1.4.2)\r\n",
      "Requirement already satisfied: nbformat>=4.4 in /opt/conda/envs/fastai/lib/python3.8/site-packages (from nbconvert<7,>=6.0.0->voila) (5.0.8)\r\n"
     ]
    },
    {
     "name": "stdout",
     "output_type": "stream",
     "text": [
      "Requirement already satisfied: entrypoints>=0.2.2 in /opt/conda/envs/fastai/lib/python3.8/site-packages (from nbconvert<7,>=6.0.0->voila) (0.3)\r\n",
      "Requirement already satisfied: testpath in /opt/conda/envs/fastai/lib/python3.8/site-packages (from nbconvert<7,>=6.0.0->voila) (0.4.4)\r\n",
      "Requirement already satisfied: pygments>=2.4.1 in /opt/conda/envs/fastai/lib/python3.8/site-packages (from nbconvert<7,>=6.0.0->voila) (2.7.2)\r\n",
      "Requirement already satisfied: jupyterlab-pygments in /opt/conda/envs/fastai/lib/python3.8/site-packages (from nbconvert<7,>=6.0.0->voila) (0.1.2)\r\n",
      "Requirement already satisfied: mistune<2,>=0.8.1 in /opt/conda/envs/fastai/lib/python3.8/site-packages (from nbconvert<7,>=6.0.0->voila) (0.8.4)\r\n",
      "Requirement already satisfied: jupyter-core in /opt/conda/envs/fastai/lib/python3.8/site-packages (from nbconvert<7,>=6.0.0->voila) (4.7.0)\r\n",
      "Requirement already satisfied: defusedxml in /opt/conda/envs/fastai/lib/python3.8/site-packages (from nbconvert<7,>=6.0.0->voila) (0.6.0)\r\n",
      "Requirement already satisfied: traitlets>=5.0 in /opt/conda/envs/fastai/lib/python3.8/site-packages (from nbconvert<7,>=6.0.0->voila) (5.0.5)\r\n",
      "Requirement already satisfied: jinja2>=2.4 in /opt/conda/envs/fastai/lib/python3.8/site-packages (from nbconvert<7,>=6.0.0->voila) (2.11.2)\r\n",
      "Requirement already satisfied: pyzmq>=13 in /opt/conda/envs/fastai/lib/python3.8/site-packages (from jupyter-client<7,>=6.1.3->voila) (20.0.0)\r\n",
      "Requirement already satisfied: python-dateutil>=2.1 in /opt/conda/envs/fastai/lib/python3.8/site-packages (from jupyter-client<7,>=6.1.3->voila) (2.8.1)\r\n",
      "Requirement already satisfied: tornado>=4.1 in /opt/conda/envs/fastai/lib/python3.8/site-packages (from jupyter-client<7,>=6.1.3->voila) (6.1)\r\n",
      "Requirement already satisfied: nest-asyncio in /opt/conda/envs/fastai/lib/python3.8/site-packages (from nbclient<0.6,>=0.4.0->voila) (1.4.3)\r\n",
      "Requirement already satisfied: async-generator in /opt/conda/envs/fastai/lib/python3.8/site-packages (from nbclient<0.6,>=0.4.0->voila) (1.10)\r\n",
      "Requirement already satisfied: terminado>=0.8.3 in /opt/conda/envs/fastai/lib/python3.8/site-packages (from jupyter-server<2.0.0,>=0.3.0->voila) (0.9.1)\r\n",
      "Requirement already satisfied: Send2Trash in /opt/conda/envs/fastai/lib/python3.8/site-packages (from jupyter-server<2.0.0,>=0.3.0->voila) (1.5.0)\r\n"
     ]
    },
    {
     "name": "stdout",
     "output_type": "stream",
     "text": [
      "Collecting websocket-client\r\n"
     ]
    },
    {
     "name": "stdout",
     "output_type": "stream",
     "text": [
      "  Downloading websocket_client-1.2.1-py2.py3-none-any.whl (52 kB)\r\n",
      "\u001b[?25l\r",
      "\u001b[K     |██████▏                         | 10 kB 943 kB/s eta 0:00:01\r",
      "\u001b[K     |████████████▍                   | 20 kB 732 kB/s eta 0:00:01\r",
      "\u001b[K     |██████████████████▋             | 30 kB 1.1 MB/s eta 0:00:01\r",
      "\u001b[K     |████████████████████████▉       | 40 kB 1.5 MB/s eta 0:00:01\r",
      "\u001b[K     |███████████████████████████████ | 51 kB 1.8 MB/s eta 0:00:01\r",
      "\u001b[K     |████████████████████████████████| 52 kB 1.2 MB/s \r\n"
     ]
    },
    {
     "name": "stdout",
     "output_type": "stream",
     "text": [
      "\u001b[?25hCollecting requests-unixsocket\r\n"
     ]
    },
    {
     "name": "stdout",
     "output_type": "stream",
     "text": [
      "  Downloading requests_unixsocket-0.2.0-py2.py3-none-any.whl (11 kB)\r\n",
      "Requirement already satisfied: ipython-genutils in /opt/conda/envs/fastai/lib/python3.8/site-packages (from jupyter-server<2.0.0,>=0.3.0->voila) (0.2.0)\r\n",
      "Requirement already satisfied: prometheus-client in /opt/conda/envs/fastai/lib/python3.8/site-packages (from jupyter-server<2.0.0,>=0.3.0->voila) (0.9.0)\r\n"
     ]
    },
    {
     "name": "stdout",
     "output_type": "stream",
     "text": [
      "Collecting anyio<4,>=3.1.0\r\n",
      "  Downloading anyio-3.3.2-py3-none-any.whl (78 kB)\r\n",
      "\u001b[?25l\r",
      "\u001b[K     |████▏                           | 10 kB 797 kB/s eta 0:00:01\r",
      "\u001b[K     |████████▍                       | 20 kB 820 kB/s eta 0:00:01\r",
      "\u001b[K     |████████████▋                   | 30 kB 1.2 MB/s eta 0:00:01\r",
      "\u001b[K     |████████████████▉               | 40 kB 1.6 MB/s eta 0:00:01\r",
      "\u001b[K     |█████████████████████           | 51 kB 1.7 MB/s eta 0:00:01\r",
      "\u001b[K     |█████████████████████████▏      | 61 kB 2.1 MB/s eta 0:00:01\r",
      "\u001b[K     |█████████████████████████████▍  | 71 kB 2.3 MB/s eta 0:00:01"
     ]
    },
    {
     "name": "stdout",
     "output_type": "stream",
     "text": [
      "\r",
      "\u001b[K     |████████████████████████████████| 78 kB 2.2 MB/s \r\n",
      "\u001b[?25hRequirement already satisfied: argon2-cffi in /opt/conda/envs/fastai/lib/python3.8/site-packages (from jupyter-server<2.0.0,>=0.3.0->voila) (20.1.0)\r\n"
     ]
    },
    {
     "name": "stdout",
     "output_type": "stream",
     "text": [
      "Requirement already satisfied: six>=1.9.0 in /opt/conda/envs/fastai/lib/python3.8/site-packages (from bleach->nbconvert<7,>=6.0.0->voila) (1.15.0)\r\n",
      "Requirement already satisfied: webencodings in /opt/conda/envs/fastai/lib/python3.8/site-packages (from bleach->nbconvert<7,>=6.0.0->voila) (0.5.1)\r\n",
      "Requirement already satisfied: packaging in /opt/conda/envs/fastai/lib/python3.8/site-packages (from bleach->nbconvert<7,>=6.0.0->voila) (20.4)\r\n",
      "Requirement already satisfied: jsonschema!=2.5.0,>=2.4 in /opt/conda/envs/fastai/lib/python3.8/site-packages (from nbformat>=4.4->nbconvert<7,>=6.0.0->voila) (3.2.0)\r\n",
      "Requirement already satisfied: MarkupSafe>=0.23 in /opt/conda/envs/fastai/lib/python3.8/site-packages (from jinja2>=2.4->nbconvert<7,>=6.0.0->voila) (1.1.1)\r\n",
      "Requirement already satisfied: ptyprocess; os_name != \"nt\" in /opt/conda/envs/fastai/lib/python3.8/site-packages (from terminado>=0.8.3->jupyter-server<2.0.0,>=0.3.0->voila) (0.6.0)\r\n",
      "Requirement already satisfied: requests>=1.1 in /opt/conda/envs/fastai/lib/python3.8/site-packages (from requests-unixsocket->jupyter-server<2.0.0,>=0.3.0->voila) (2.25.0)\r\n",
      "Requirement already satisfied: urllib3>=1.8 in /opt/conda/envs/fastai/lib/python3.8/site-packages (from requests-unixsocket->jupyter-server<2.0.0,>=0.3.0->voila) (1.25.11)\r\n"
     ]
    },
    {
     "name": "stdout",
     "output_type": "stream",
     "text": [
      "Requirement already satisfied: idna>=2.8 in /opt/conda/envs/fastai/lib/python3.8/site-packages (from anyio<4,>=3.1.0->jupyter-server<2.0.0,>=0.3.0->voila) (2.10)\r\n"
     ]
    },
    {
     "name": "stdout",
     "output_type": "stream",
     "text": [
      "Collecting sniffio>=1.1\r\n",
      "  Downloading sniffio-1.2.0-py3-none-any.whl (10 kB)\r\n"
     ]
    },
    {
     "name": "stdout",
     "output_type": "stream",
     "text": [
      "Requirement already satisfied: cffi>=1.0.0 in /opt/conda/envs/fastai/lib/python3.8/site-packages (from argon2-cffi->jupyter-server<2.0.0,>=0.3.0->voila) (1.14.3)\r\n",
      "Requirement already satisfied: pyparsing>=2.0.2 in /opt/conda/envs/fastai/lib/python3.8/site-packages (from packaging->bleach->nbconvert<7,>=6.0.0->voila) (2.4.7)\r\n",
      "Requirement already satisfied: attrs>=17.4.0 in /opt/conda/envs/fastai/lib/python3.8/site-packages (from jsonschema!=2.5.0,>=2.4->nbformat>=4.4->nbconvert<7,>=6.0.0->voila) (20.3.0)\r\n",
      "Requirement already satisfied: pyrsistent>=0.14.0 in /opt/conda/envs/fastai/lib/python3.8/site-packages (from jsonschema!=2.5.0,>=2.4->nbformat>=4.4->nbconvert<7,>=6.0.0->voila) (0.17.3)\r\n",
      "Requirement already satisfied: setuptools in /opt/conda/envs/fastai/lib/python3.8/site-packages (from jsonschema!=2.5.0,>=2.4->nbformat>=4.4->nbconvert<7,>=6.0.0->voila) (49.6.0.post20201009)\r\n",
      "Requirement already satisfied: certifi>=2017.4.17 in /opt/conda/envs/fastai/lib/python3.8/site-packages (from requests>=1.1->requests-unixsocket->jupyter-server<2.0.0,>=0.3.0->voila) (2020.11.8)\r\n",
      "Requirement already satisfied: chardet<4,>=3.0.2 in /opt/conda/envs/fastai/lib/python3.8/site-packages (from requests>=1.1->requests-unixsocket->jupyter-server<2.0.0,>=0.3.0->voila) (3.0.4)\r\n",
      "Requirement already satisfied: pycparser in /opt/conda/envs/fastai/lib/python3.8/site-packages (from cffi>=1.0.0->argon2-cffi->jupyter-server<2.0.0,>=0.3.0->voila) (2.20)\r\n"
     ]
    },
    {
     "name": "stdout",
     "output_type": "stream",
     "text": [
      "Installing collected packages: nbconvert, websocket-client, requests-unixsocket, sniffio, anyio, jupyter-server, voila\r\n",
      "  Attempting uninstall: nbconvert\r\n",
      "    Found existing installation: nbconvert 5.6.1\r\n"
     ]
    },
    {
     "name": "stdout",
     "output_type": "stream",
     "text": [
      "    Uninstalling nbconvert-5.6.1:\r\n"
     ]
    },
    {
     "name": "stdout",
     "output_type": "stream",
     "text": [
      "      Successfully uninstalled nbconvert-5.6.1\r\n"
     ]
    },
    {
     "name": "stdout",
     "output_type": "stream",
     "text": [
      "\u001b[31mERROR: After October 2020 you may experience errors when installing or updating packages. This is because pip will change the way that it resolves dependency conflicts.\r\n",
      "\r\n",
      "We recommend you use --use-feature=2020-resolver to test your packages with the new resolver before it becomes the default.\r\n",
      "\r\n",
      "nbdev 1.1.5 requires nbconvert<6, but you'll have nbconvert 6.2.0 which is incompatible.\u001b[0m\r\n",
      "Successfully installed anyio-3.3.2 jupyter-server-1.11.1 nbconvert-6.2.0 requests-unixsocket-0.2.0 sniffio-1.2.0 voila-0.2.16 websocket-client-1.2.1\r\n"
     ]
    },
    {
     "name": "stdout",
     "output_type": "stream",
     "text": [
      "Enabling: voila\r\n",
      "- Writing config: /opt/conda/envs/fastai/etc/jupyter\r\n",
      "    - Validating...\r\n"
     ]
    },
    {
     "name": "stdout",
     "output_type": "stream",
     "text": [
      "      voila 0.2.16 \u001b[32mOK\u001b[0m\r\n"
     ]
    }
   ],
   "source": [
    "!pip install voila\r\n",
    "!jupyter serverextension enable --sys-prefix voila "
   ]
  },
  {
   "cell_type": "code",
   "execution_count": null,
   "metadata": {
    "collapsed": false,
    "gradient": {
     "editing": false,
     "source_hidden": false
    }
   },
   "outputs": [],
   "source": []
  }
 ],
 "metadata": {
  "kernelspec": {
   "display_name": "Python 3",
   "language": "python",
   "name": "python3"
  },
  "language_info": {
   "codemirror_mode": {
    "name": "ipython",
    "version": 3
   },
   "file_extension": ".py",
   "mimetype": "text/x-python",
   "name": "python",
   "nbconvert_exporter": "python",
   "pygments_lexer": "ipython3",
   "version": "3.8.6"
  }
 },
 "nbformat": 4,
 "nbformat_minor": 4
}
